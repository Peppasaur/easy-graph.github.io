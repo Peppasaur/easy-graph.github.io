{
 "cells": [
  {
   "cell_type": "code",
   "execution_count": 6,
   "metadata": {},
   "outputs": [],
   "source": [
    "import easygraph as eg\n",
    "G=eg.Graph()"
   ]
  },
  {
   "cell_type": "code",
   "execution_count": 7,
   "metadata": {},
   "outputs": [
    {
     "data": {
      "text/plain": [
       "[(1, 2, {})]"
      ]
     },
     "execution_count": 7,
     "metadata": {},
     "output_type": "execute_result"
    }
   ],
   "source": [
    "G.add_edge(1,2)#Add a single edge\n",
    "G.edges"
   ]
  },
  {
   "cell_type": "code",
   "execution_count": 8,
   "metadata": {},
   "outputs": [
    {
     "data": {
      "text/plain": [
       "[(1, 2, {}), (1, 3, {}), (2, 3, {}), (3, 4, {}), (4, 5, {})]"
      ]
     },
     "execution_count": 8,
     "metadata": {},
     "output_type": "execute_result"
    }
   ],
   "source": [
    "G.add_edges([(2, 3), (1, 3), (3, 4), (4, 5)])#Add edges\n",
    "G.edges"
   ]
  },
  {
   "cell_type": "code",
   "execution_count": 9,
   "metadata": {},
   "outputs": [
    {
     "data": {
      "text/plain": [
       "{1: {},\n",
       " 2: {},\n",
       " 3: {},\n",
       " 4: {},\n",
       " 5: {},\n",
       " 'hello world': {},\n",
       " 'Jack': {'node_attr': {'age': 10, 'gender': 'M'}}}"
      ]
     },
     "execution_count": 9,
     "metadata": {},
     "output_type": "execute_result"
    }
   ],
   "source": [
    "G.add_node('hello world')\n",
    "G.add_node('Jack', node_attr={\n",
    "    'age': 10,\n",
    "    'gender': 'M'\n",
    "})\n",
    "G.nodes"
   ]
  },
  {
   "cell_type": "code",
   "execution_count": 10,
   "metadata": {},
   "outputs": [
    {
     "data": {
      "text/plain": [
       "{1: {}, 2: {}, 3: {}, 4: {}, 5: {}}"
      ]
     },
     "execution_count": 10,
     "metadata": {},
     "output_type": "execute_result"
    }
   ],
   "source": [
    "# G.remove_nodes(['hello world','Tom','Lily','a','b'])#remove edges\n",
    "G.remove_nodes(['hello world', 'Jack'])\n",
    "G.nodes"
   ]
  },
  {
   "cell_type": "code",
   "execution_count": 11,
   "metadata": {},
   "outputs": [
    {
     "data": {
      "text/plain": [
       "[(1, 2, {}), (1, 3, {}), (2, 3, {}), (3, 4, {})]"
      ]
     },
     "execution_count": 11,
     "metadata": {},
     "output_type": "execute_result"
    }
   ],
   "source": [
    "G.remove_edge(4,5) # doesn't remove any nodes\n",
    "G.edges"
   ]
  },
  {
   "cell_type": "code",
   "execution_count": 12,
   "metadata": {},
   "outputs": [
    {
     "name": "stdout",
     "output_type": "stream",
     "text": [
      "5\n",
      "1\n",
      "2\n",
      "3\n",
      "4\n",
      "5\n",
      "{2: {}, 3: {}}\n"
     ]
    }
   ],
   "source": [
    "print(len(G))#__len__(self)\n",
    "\n",
    "for x in G:#__iter__(self)\n",
    "    print(x)\n",
    "\n",
    "\n",
    "\n",
    "\n",
    "\n",
    "print(G[1])# return list(self._adj[node].keys()) __contains__ __getitem__"
   ]
  },
  {
   "cell_type": "code",
   "execution_count": 13,
   "metadata": {},
   "outputs": [
    {
     "name": "stdout",
     "output_type": "stream",
     "text": [
      "1\n",
      "3\n"
     ]
    }
   ],
   "source": [
    "for neighbor in G.neighbors(node=2):\n",
    "    print(neighbor)"
   ]
  },
  {
   "cell_type": "code",
   "execution_count": 14,
   "metadata": {},
   "outputs": [
    {
     "data": {
      "text/plain": [
       "{1: {2: {'weight': 20}, 3: {'weight': 15}},\n",
       " 2: {1: {'weight': 20}, 3: {'weight': 10}},\n",
       " 3: {2: {'weight': 10}, 1: {'weight': 15}, 4: {'weight': 8}},\n",
       " 4: {3: {'weight': 8}, 5: {'weight': 12}},\n",
       " 5: {4: {'weight': 12}},\n",
       " 6: {}}"
      ]
     },
     "execution_count": 14,
     "metadata": {},
     "output_type": "execute_result"
    }
   ],
   "source": [
    "G.add_edges([(1,2), (2, 3),(1, 3), (3, 4), (4, 5)], edges_attr=[\n",
    "    {\n",
    "        'weight': 20\n",
    "    },\n",
    "    {\n",
    "        'weight': 10\n",
    "    },\n",
    "    {\n",
    "        'weight': 15\n",
    "    },\n",
    "    {\n",
    "        'weight': 8\n",
    "    },\n",
    "    {\n",
    "        'weight': 12\n",
    "    }\n",
    "])#add weighted edges\n",
    "G.add_node(6)\n",
    "G.edges\n",
    "\n",
    "G.nodes\n",
    "\n",
    "G.adj"
   ]
  },
  {
   "cell_type": "code",
   "execution_count": 27,
   "metadata": {},
   "outputs": [
    {
     "name": "stdout",
     "output_type": "stream",
     "text": [
      "{1: 35, 2: 30, 3: 33, 4: 20, 5: 12, 6: 0}\n"
     ]
    },
    {
     "data": {
      "text/plain": [
       "{1: 35, 2: 30, 3: 33, 4: 20, 5: 12, 6: 0}"
      ]
     },
     "execution_count": 27,
     "metadata": {},
     "output_type": "execute_result"
    }
   ],
   "source": [
    "deg = G.degree()\n",
    "print(deg)\n",
    "\n",
    "G.degree(weight='weight')"
   ]
  },
  {
   "cell_type": "code",
   "execution_count": 32,
   "metadata": {},
   "outputs": [
    {
     "name": "stdout",
     "output_type": "stream",
     "text": [
      "{1: {2: {'weight': 20}, 3: {'weight': 15}}, 2: {1: {'weight': 20}, 3: {'weight': 10}}, 3: {2: {'weight': 10}, 1: {'weight': 15}, 4: {'weight': 8}}, 4: {3: {'weight': 8}, 5: {'weight': 12}}, 5: {4: {'weight': 12}}, 6: {}}\n",
      "\n",
      "{0: {1: {'weight': 20}, 2: {'weight': 15}}, 1: {0: {'weight': 20}, 2: {'weight': 10}}, 2: {0: {'weight': 15}, 1: {'weight': 10}, 3: {'weight': 8}}, 3: {2: {'weight': 8}, 4: {'weight': 12}}, 4: {3: {'weight': 12}}, 5: {}}\n",
      "\n",
      "{1: 0, 2: 1, 3: 2, 4: 3, 5: 4, 6: 5}\n",
      "\n"
     ]
    },
    {
     "data": {
      "text/plain": [
       "{0: 1, 1: 2, 2: 3, 3: 4, 4: 5, 5: 6}"
      ]
     },
     "execution_count": 32,
     "metadata": {},
     "output_type": "execute_result"
    }
   ],
   "source": [
    "G_index_graph, index_of_node, node_of_index = G.to_index_node_graph()\n",
    "a = G_index_graph.adj\n",
    "\n",
    "b = index_of_node\n",
    "\n",
    "# print(a, b)\n",
    "print(G.adj)\n",
    "print()\n",
    "print(a)\n",
    "print()\n",
    "print(b)\n",
    "print()\n",
    "node_of_index"
   ]
  },
  {
   "cell_type": "code",
   "execution_count": 30,
   "metadata": {},
   "outputs": [
    {
     "data": {
      "text/plain": [
       "{1: {2: {'weight': 20}, 3: {'weight': 15}},\n",
       " 2: {1: {'weight': 20}, 3: {'weight': 10}},\n",
       " 3: {1: {'weight': 15}, 2: {'weight': 10}, 4: {'weight': 8}},\n",
       " 4: {3: {'weight': 8}, 5: {'weight': 12}},\n",
       " 5: {4: {'weight': 12}},\n",
       " 6: {}}"
      ]
     },
     "execution_count": 30,
     "metadata": {},
     "output_type": "execute_result"
    }
   ],
   "source": [
    "G1 = G.copy()\n",
    "G1.adj"
   ]
  },
  {
   "cell_type": "code",
   "execution_count": 33,
   "metadata": {},
   "outputs": [
    {
     "data": {
      "text/plain": [
       "{1: {2: {'weight': 20}, 3: {'weight': 15}},\n",
       " 2: {1: {'weight': 20}, 3: {'weight': 10}},\n",
       " 3: {1: {'weight': 15}, 2: {'weight': 10}}}"
      ]
     },
     "execution_count": 33,
     "metadata": {},
     "output_type": "execute_result"
    }
   ],
   "source": [
    "G_sub = G.nodes_subgraph(from_nodes=[1, 2, 3])\n",
    "G_sub.adj"
   ]
  },
  {
   "cell_type": "code",
   "execution_count": 34,
   "metadata": {},
   "outputs": [
    {
     "data": {
      "text/plain": [
       "{2: {1: {'weight': 20}, 3: {'weight': 10}},\n",
       " 1: {2: {'weight': 20}, 3: {'weight': 15}},\n",
       " 3: {2: {'weight': 10}, 1: {'weight': 15}}}"
      ]
     },
     "execution_count": 34,
     "metadata": {},
     "output_type": "execute_result"
    }
   ],
   "source": [
    "ego_network = G.ego_subgraph(center=1)\n",
    "ego_network.adj"
   ]
  },
  {
   "cell_type": "code",
   "execution_count": 35,
   "metadata": {},
   "outputs": [
    {
     "name": "stdout",
     "output_type": "stream",
     "text": [
      "2 [{6}, {1, 2, 3, 4, 5}]\n"
     ]
    },
    {
     "data": {
      "text/plain": [
       "{1, 2, 3, 4, 5}"
      ]
     },
     "execution_count": 35,
     "metadata": {},
     "output_type": "execute_result"
    }
   ],
   "source": [
    "n = eg.number_connected_components(G)\n",
    "\n",
    "cc = eg.connected_components(G)\n",
    "\n",
    "print(n, cc)\n",
    "eg.connected_component_of_node(G, node=3)"
   ]
  },
  {
   "cell_type": "markdown",
   "metadata": {},
   "source": [
    "## Detection of Structural Hole Spanners"
   ]
  },
  {
   "cell_type": "code",
   "execution_count": 21,
   "metadata": {},
   "outputs": [
    {
     "data": {
      "text/plain": [
       "[3, 1, 2, 4, 5]"
      ]
     },
     "execution_count": 21,
     "metadata": {},
     "output_type": "execute_result"
    }
   ],
   "source": [
    "M = eg.get_structural_holes_MaxD(\n",
    "    G,\n",
    "    k=5,  # To find top five structural holes spanners.\n",
    "    C=[frozenset([1, 2, 3]), frozenset([4, 5, 6])]  # Two communities\n",
    ")\n",
    "M"
   ]
  },
  {
   "cell_type": "code",
   "execution_count": 22,
   "metadata": {},
   "outputs": [
    {
     "name": "stdout",
     "output_type": "stream",
     "text": [
      "AMI\n",
      "HAM: 1.0\n",
      "HAM_all: 0.25126693574443554\n",
      "NMI\n",
      "HAM: 1.0\n",
      "HAM_all: 0.43253806776631243\n",
      "Entropy\n",
      "HAM: 0.0\n",
      "HAM_all: 0.38190850097688767\n"
     ]
    }
   ],
   "source": [
    "top_k_nodes, SH_score, cmnt_labels = eg.get_structural_holes_HAM(\n",
    "    G, k=2, c=2, ground_truth_labels=[[0], [0], [1], [1], [1]])\n"
   ]
  },
  {
   "cell_type": "code",
   "execution_count": 23,
   "metadata": {},
   "outputs": [
    {
     "data": {
      "text/plain": [
       "{1: 2, 2: 2, 3: 2, 4: 1, 5: 1}"
      ]
     },
     "execution_count": 23,
     "metadata": {},
     "output_type": "execute_result"
    }
   ],
   "source": [
    "top_k_nodes\n",
    "\n",
    "SH_score\n",
    "\n",
    "cmnt_labels"
   ]
  },
  {
   "cell_type": "code",
   "execution_count": 24,
   "metadata": {},
   "outputs": [
    {
     "data": {
      "text/plain": [
       "[3, 5, 2]"
      ]
     },
     "execution_count": 24,
     "metadata": {},
     "output_type": "execute_result"
    }
   ],
   "source": [
    "T = eg.common_greedy(G, k=3, c=1.0, weight='weight')\n",
    "T"
   ]
  },
  {
   "cell_type": "markdown",
   "metadata": {},
   "source": [
    "G=eg.datasets.get_graph_karateclub()"
   ]
  },
  {
   "cell_type": "code",
   "execution_count": 25,
   "metadata": {},
   "outputs": [
    {
     "data": {
      "text/plain": [
       "2.0"
      ]
     },
     "execution_count": 25,
     "metadata": {},
     "output_type": "execute_result"
    }
   ],
   "source": [
    "eg.ego_betweenness(G, 3)"
   ]
  },
  {
   "cell_type": "markdown",
   "metadata": {},
   "source": [
    "eg.effective_size(G)"
   ]
  },
  {
   "cell_type": "code",
   "execution_count": 26,
   "metadata": {},
   "outputs": [
    {
     "ename": "ZeroDivisionError",
     "evalue": "float division by zero",
     "output_type": "error",
     "traceback": [
      "\u001b[0;31m---------------------------------------------------------------------------\u001b[0m",
      "\u001b[0;31mZeroDivisionError\u001b[0m                         Traceback (most recent call last)",
      "\u001b[1;32m/Users/tscp/testdir/easy-graph.github.io/notebooks/tutorial.ipynb Cell 24'\u001b[0m in \u001b[0;36m<cell line: 1>\u001b[0;34m()\u001b[0m\n\u001b[0;32m----> <a href='vscode-notebook-cell:/Users/tscp/testdir/easy-graph.github.io/notebooks/tutorial.ipynb#ch0000023?line=0'>1</a>\u001b[0m eg\u001b[39m.\u001b[39;49mefficiency(G)\n",
      "File \u001b[0;32m/usr/local/Caskroom/miniconda/base/envs/lab/lib/python3.9/site-packages/easygraph/functions/structural_holes/evaluation.py:217\u001b[0m, in \u001b[0;36mefficiency\u001b[0;34m(G, nodes, weight)\u001b[0m\n\u001b[1;32m    <a href='file:///usr/local/Caskroom/miniconda/base/envs/lab/lib/python3.9/site-packages/easygraph/functions/structural_holes/evaluation.py?line=214'>215</a>\u001b[0m     e_size \u001b[39m=\u001b[39m effective_size(G, nodes\u001b[39m=\u001b[39mnodes, weight\u001b[39m=\u001b[39mweight)\n\u001b[1;32m    <a href='file:///usr/local/Caskroom/miniconda/base/envs/lab/lib/python3.9/site-packages/easygraph/functions/structural_holes/evaluation.py?line=215'>216</a>\u001b[0m degree \u001b[39m=\u001b[39m G\u001b[39m.\u001b[39mdegree(weight\u001b[39m=\u001b[39mweight)\n\u001b[0;32m--> <a href='file:///usr/local/Caskroom/miniconda/base/envs/lab/lib/python3.9/site-packages/easygraph/functions/structural_holes/evaluation.py?line=216'>217</a>\u001b[0m efficiency \u001b[39m=\u001b[39m {n: v \u001b[39m/\u001b[39m degree[n] \u001b[39mfor\u001b[39;00m n, v \u001b[39min\u001b[39;00m e_size\u001b[39m.\u001b[39mitems()}\n\u001b[1;32m    <a href='file:///usr/local/Caskroom/miniconda/base/envs/lab/lib/python3.9/site-packages/easygraph/functions/structural_holes/evaluation.py?line=217'>218</a>\u001b[0m \u001b[39mreturn\u001b[39;00m efficiency\n",
      "File \u001b[0;32m/usr/local/Caskroom/miniconda/base/envs/lab/lib/python3.9/site-packages/easygraph/functions/structural_holes/evaluation.py:217\u001b[0m, in \u001b[0;36m<dictcomp>\u001b[0;34m(.0)\u001b[0m\n\u001b[1;32m    <a href='file:///usr/local/Caskroom/miniconda/base/envs/lab/lib/python3.9/site-packages/easygraph/functions/structural_holes/evaluation.py?line=214'>215</a>\u001b[0m     e_size \u001b[39m=\u001b[39m effective_size(G, nodes\u001b[39m=\u001b[39mnodes, weight\u001b[39m=\u001b[39mweight)\n\u001b[1;32m    <a href='file:///usr/local/Caskroom/miniconda/base/envs/lab/lib/python3.9/site-packages/easygraph/functions/structural_holes/evaluation.py?line=215'>216</a>\u001b[0m degree \u001b[39m=\u001b[39m G\u001b[39m.\u001b[39mdegree(weight\u001b[39m=\u001b[39mweight)\n\u001b[0;32m--> <a href='file:///usr/local/Caskroom/miniconda/base/envs/lab/lib/python3.9/site-packages/easygraph/functions/structural_holes/evaluation.py?line=216'>217</a>\u001b[0m efficiency \u001b[39m=\u001b[39m {n: v \u001b[39m/\u001b[39;49m degree[n] \u001b[39mfor\u001b[39;00m n, v \u001b[39min\u001b[39;00m e_size\u001b[39m.\u001b[39mitems()}\n\u001b[1;32m    <a href='file:///usr/local/Caskroom/miniconda/base/envs/lab/lib/python3.9/site-packages/easygraph/functions/structural_holes/evaluation.py?line=217'>218</a>\u001b[0m \u001b[39mreturn\u001b[39;00m efficiency\n",
      "\u001b[0;31mZeroDivisionError\u001b[0m: float division by zero"
     ]
    }
   ],
   "source": [
    "eg.efficiency(G)"
   ]
  },
  {
   "cell_type": "code",
   "execution_count": null,
   "metadata": {},
   "outputs": [],
   "source": [
    "eg.constraint(G)"
   ]
  },
  {
   "cell_type": "code",
   "execution_count": null,
   "metadata": {},
   "outputs": [],
   "source": [
    "eg.hierarchy(G)"
   ]
  },
  {
   "cell_type": "code",
   "execution_count": null,
   "metadata": {},
   "outputs": [],
   "source": []
  }
 ],
 "metadata": {
  "interpreter": {
   "hash": "aaa1341972cf5aa6520aa27857a91c10b768cbd27d8afa4ccf1cc69ed400b7e7"
  },
  "kernelspec": {
   "display_name": "Python 3.10.2 ('lab')",
   "language": "python",
   "name": "python3"
  },
  "language_info": {
   "codemirror_mode": {
    "name": "ipython",
    "version": 3
   },
   "file_extension": ".py",
   "mimetype": "text/x-python",
   "name": "python",
   "nbconvert_exporter": "python",
   "pygments_lexer": "ipython3",
   "version": "3.9.10"
  },
  "orig_nbformat": 4
 },
 "nbformat": 4,
 "nbformat_minor": 2
}
