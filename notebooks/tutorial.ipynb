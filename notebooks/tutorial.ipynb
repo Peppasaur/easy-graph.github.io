{
 "cells": [
  {
   "cell_type": "code",
   "execution_count": 53,
   "metadata": {},
   "outputs": [],
   "source": [
    "import easygraph as eg\n",
    "G=eg.Graph()"
   ]
  },
  {
   "cell_type": "code",
   "execution_count": 54,
   "metadata": {},
   "outputs": [
    {
     "data": {
      "text/plain": [
       "[(1, 2, {})]"
      ]
     },
     "execution_count": 54,
     "metadata": {},
     "output_type": "execute_result"
    }
   ],
   "source": [
    "G.add_edge(1,2) #Add a single edge\n",
    "G.edges"
   ]
  },
  {
   "cell_type": "code",
   "execution_count": 55,
   "metadata": {},
   "outputs": [
    {
     "data": {
      "text/plain": [
       "[(1, 2, {}), (1, 3, {}), (2, 3, {}), (3, 4, {}), (4, 5, {})]"
      ]
     },
     "execution_count": 55,
     "metadata": {},
     "output_type": "execute_result"
    }
   ],
   "source": [
    "G.add_edges([(2, 3), (1, 3), (3, 4), (4, 5)])#Add edges\n",
    "G.edges"
   ]
  },
  {
   "cell_type": "code",
   "execution_count": 56,
   "metadata": {},
   "outputs": [
    {
     "data": {
      "text/plain": [
       "{1: {},\n",
       " 2: {},\n",
       " 3: {},\n",
       " 4: {},\n",
       " 5: {},\n",
       " 'hello world': {},\n",
       " 'Jack': {'node_attr': {'age': 10, 'gender': 'M'}}}"
      ]
     },
     "execution_count": 56,
     "metadata": {},
     "output_type": "execute_result"
    }
   ],
   "source": [
    "G.add_node('hello world')\n",
    "G.add_node('Jack', node_attr={\n",
    "    'age': 10,\n",
    "    'gender': 'M'\n",
    "})\n",
    "G.nodes"
   ]
  },
  {
   "cell_type": "code",
   "execution_count": 57,
   "metadata": {},
   "outputs": [
    {
     "data": {
      "text/plain": [
       "{1: {}, 2: {}, 3: {}, 4: {}, 5: {}}"
      ]
     },
     "execution_count": 57,
     "metadata": {},
     "output_type": "execute_result"
    }
   ],
   "source": [
    "# G.remove_nodes(['hello world','Tom','Lily','a','b'])#remove edges\n",
    "G.remove_nodes(['hello world', 'Jack'])\n",
    "G.nodes"
   ]
  },
  {
   "cell_type": "code",
   "execution_count": 58,
   "metadata": {},
   "outputs": [
    {
     "data": {
      "text/plain": [
       "[(1, 2, {}), (1, 3, {}), (2, 3, {}), (3, 4, {})]"
      ]
     },
     "execution_count": 58,
     "metadata": {},
     "output_type": "execute_result"
    }
   ],
   "source": [
    "G.remove_edge(4,5) # doesn't remove any nodes\n",
    "G.edges"
   ]
  },
  {
   "cell_type": "code",
   "execution_count": 59,
   "metadata": {},
   "outputs": [
    {
     "name": "stdout",
     "output_type": "stream",
     "text": [
      "5\n",
      "1\n",
      "2\n",
      "3\n",
      "4\n",
      "5\n",
      "{2: {}, 3: {}}\n"
     ]
    }
   ],
   "source": [
    "print(len(G))#__len__(self)\n",
    "\n",
    "for x in G:#__iter__(self)\n",
    "    print(x)\n",
    "\n",
    "\n",
    "\n",
    "\n",
    "\n",
    "print(G[1])# return list(self._adj[node].keys()) __contains__ __getitem__"
   ]
  },
  {
   "cell_type": "code",
   "execution_count": 60,
   "metadata": {},
   "outputs": [
    {
     "name": "stdout",
     "output_type": "stream",
     "text": [
      "1\n",
      "3\n"
     ]
    }
   ],
   "source": [
    "for neighbor in G.neighbors(node=2):\n",
    "    print(neighbor)"
   ]
  },
  {
   "cell_type": "code",
   "execution_count": 61,
   "metadata": {},
   "outputs": [
    {
     "data": {
      "text/plain": [
       "{1: {2: {'weight': 20}, 3: {'weight': 15}},\n",
       " 2: {1: {'weight': 20}, 3: {'weight': 10}},\n",
       " 3: {2: {'weight': 10}, 1: {'weight': 15}, 4: {'weight': 8}},\n",
       " 4: {3: {'weight': 8}, 5: {'weight': 12}},\n",
       " 5: {4: {'weight': 12}},\n",
       " 6: {}}"
      ]
     },
     "execution_count": 61,
     "metadata": {},
     "output_type": "execute_result"
    }
   ],
   "source": [
    "G.add_edges([(1,2), (2, 3),(1, 3), (3, 4), (4, 5)], edges_attr=[\n",
    "    {\n",
    "        'weight': 20\n",
    "    },\n",
    "    {\n",
    "        'weight': 10\n",
    "    },\n",
    "    {\n",
    "        'weight': 15\n",
    "    },\n",
    "    {\n",
    "        'weight': 8\n",
    "    },\n",
    "    {\n",
    "        'weight': 12\n",
    "    }\n",
    "])#add weighted edges\n",
    "G.add_node(6)\n",
    "G.edges\n",
    "\n",
    "G.nodes\n",
    "\n",
    "G.adj"
   ]
  },
  {
   "cell_type": "code",
   "execution_count": 62,
   "metadata": {},
   "outputs": [
    {
     "name": "stdout",
     "output_type": "stream",
     "text": [
      "{1: 35, 2: 30, 3: 33, 4: 20, 5: 12, 6: 0}\n"
     ]
    },
    {
     "data": {
      "text/plain": [
       "{1: 35, 2: 30, 3: 33, 4: 20, 5: 12, 6: 0}"
      ]
     },
     "execution_count": 62,
     "metadata": {},
     "output_type": "execute_result"
    }
   ],
   "source": [
    "deg = G.degree()\n",
    "print(deg)\n",
    "\n",
    "G.degree(weight='weight')"
   ]
  },
  {
   "cell_type": "code",
   "execution_count": 63,
   "metadata": {},
   "outputs": [
    {
     "name": "stdout",
     "output_type": "stream",
     "text": [
      "{1: {2: {'weight': 20}, 3: {'weight': 15}}, 2: {1: {'weight': 20}, 3: {'weight': 10}}, 3: {2: {'weight': 10}, 1: {'weight': 15}, 4: {'weight': 8}}, 4: {3: {'weight': 8}, 5: {'weight': 12}}, 5: {4: {'weight': 12}}, 6: {}}\n",
      "\n",
      "{0: {1: {'weight': 20}, 2: {'weight': 15}}, 1: {0: {'weight': 20}, 2: {'weight': 10}}, 2: {0: {'weight': 15}, 1: {'weight': 10}, 3: {'weight': 8}}, 3: {2: {'weight': 8}, 4: {'weight': 12}}, 4: {3: {'weight': 12}}, 5: {}}\n",
      "\n",
      "{1: 0, 2: 1, 3: 2, 4: 3, 5: 4, 6: 5}\n",
      "\n"
     ]
    },
    {
     "data": {
      "text/plain": [
       "{0: 1, 1: 2, 2: 3, 3: 4, 4: 5, 5: 6}"
      ]
     },
     "execution_count": 63,
     "metadata": {},
     "output_type": "execute_result"
    }
   ],
   "source": [
    "G_index_graph, index_of_node, node_of_index = G.to_index_node_graph()\n",
    "a = G_index_graph.adj\n",
    "\n",
    "b = index_of_node\n",
    "\n",
    "# print(a, b)\n",
    "print(G.adj)\n",
    "print()\n",
    "print(a)\n",
    "print()\n",
    "print(b)\n",
    "print()\n",
    "node_of_index"
   ]
  },
  {
   "cell_type": "code",
   "execution_count": 64,
   "metadata": {},
   "outputs": [
    {
     "data": {
      "text/plain": [
       "{1: {2: {'weight': 20}, 3: {'weight': 15}},\n",
       " 2: {1: {'weight': 20}, 3: {'weight': 10}},\n",
       " 3: {1: {'weight': 15}, 2: {'weight': 10}, 4: {'weight': 8}},\n",
       " 4: {3: {'weight': 8}, 5: {'weight': 12}},\n",
       " 5: {4: {'weight': 12}},\n",
       " 6: {}}"
      ]
     },
     "execution_count": 64,
     "metadata": {},
     "output_type": "execute_result"
    }
   ],
   "source": [
    "G1 = G.copy()\n",
    "G1.adj"
   ]
  },
  {
   "cell_type": "code",
   "execution_count": 65,
   "metadata": {},
   "outputs": [
    {
     "data": {
      "text/plain": [
       "{1: {2: {'weight': 20}, 3: {'weight': 15}},\n",
       " 2: {1: {'weight': 20}, 3: {'weight': 10}},\n",
       " 3: {1: {'weight': 15}, 2: {'weight': 10}}}"
      ]
     },
     "execution_count": 65,
     "metadata": {},
     "output_type": "execute_result"
    }
   ],
   "source": [
    "G_sub = G.nodes_subgraph(from_nodes=[1, 2, 3])\n",
    "G_sub.adj"
   ]
  },
  {
   "cell_type": "code",
   "execution_count": 66,
   "metadata": {},
   "outputs": [
    {
     "data": {
      "text/plain": [
       "{2: {1: {'weight': 20}, 3: {'weight': 10}},\n",
       " 1: {2: {'weight': 20}, 3: {'weight': 15}},\n",
       " 3: {2: {'weight': 10}, 1: {'weight': 15}}}"
      ]
     },
     "execution_count": 66,
     "metadata": {},
     "output_type": "execute_result"
    }
   ],
   "source": [
    "ego_network = G.ego_subgraph(center=1)\n",
    "ego_network.adj"
   ]
  },
  {
   "cell_type": "code",
   "execution_count": 67,
   "metadata": {},
   "outputs": [
    {
     "name": "stdout",
     "output_type": "stream",
     "text": [
      "2 [{6}, {1, 2, 3, 4, 5}]\n"
     ]
    },
    {
     "data": {
      "text/plain": [
       "{1, 2, 3, 4, 5}"
      ]
     },
     "execution_count": 67,
     "metadata": {},
     "output_type": "execute_result"
    }
   ],
   "source": [
    "n = eg.number_connected_components(G)\n",
    "\n",
    "cc = eg.connected_components(G)\n",
    "\n",
    "print(n, cc)\n",
    "eg.connected_component_of_node(G, node=3)"
   ]
  },
  {
   "cell_type": "markdown",
   "metadata": {},
   "source": [
    "## Detection of Structural Hole Spanners"
   ]
  },
  {
   "cell_type": "code",
   "execution_count": 68,
   "metadata": {},
   "outputs": [
    {
     "data": {
      "text/plain": [
       "[3, 1, 2, 4, 5]"
      ]
     },
     "execution_count": 68,
     "metadata": {},
     "output_type": "execute_result"
    }
   ],
   "source": [
    "M = eg.get_structural_holes_MaxD(\n",
    "    G,\n",
    "    k=5,  # To find top five structural holes spanners.\n",
    "    C=[frozenset([1, 2, 3]), frozenset([4, 5, 6])]  # Two communities\n",
    ")\n",
    "M"
   ]
  },
  {
   "cell_type": "code",
   "execution_count": 69,
   "metadata": {},
   "outputs": [
    {
     "name": "stdout",
     "output_type": "stream",
     "text": [
      "AMI\n",
      "HAM: 1.0\n",
      "HAM_all: 0.25126693574443554\n",
      "NMI\n",
      "HAM: 1.0\n",
      "HAM_all: 0.43253806776631243\n",
      "Entropy\n",
      "HAM: 0.0\n",
      "HAM_all: 0.38190850097688767\n"
     ]
    }
   ],
   "source": [
    "top_k_nodes, SH_score, cmnt_labels = eg.get_structural_holes_HAM(\n",
    "    G, k=2, c=2, ground_truth_labels=[[0], [0], [1], [1], [1]])\n"
   ]
  },
  {
   "cell_type": "code",
   "execution_count": 70,
   "metadata": {},
   "outputs": [
    {
     "data": {
      "text/plain": [
       "{1: 2, 2: 2, 3: 2, 4: 1, 5: 1}"
      ]
     },
     "execution_count": 70,
     "metadata": {},
     "output_type": "execute_result"
    }
   ],
   "source": [
    "top_k_nodes\n",
    "\n",
    "SH_score\n",
    "\n",
    "cmnt_labels"
   ]
  },
  {
   "cell_type": "code",
   "execution_count": 71,
   "metadata": {},
   "outputs": [
    {
     "data": {
      "text/plain": [
       "[3, 5, 2]"
      ]
     },
     "execution_count": 71,
     "metadata": {},
     "output_type": "execute_result"
    }
   ],
   "source": [
    "T = eg.common_greedy(G, k=3, c=1.0, weight='weight')\n",
    "T"
   ]
  },
  {
   "cell_type": "code",
   "execution_count": 72,
   "metadata": {},
   "outputs": [],
   "source": [
    "G=eg.datasets.get_graph_karateclub()"
   ]
  },
  {
   "cell_type": "code",
   "execution_count": 73,
   "metadata": {},
   "outputs": [
    {
     "data": {
      "text/plain": [
       "6.5"
      ]
     },
     "execution_count": 73,
     "metadata": {},
     "output_type": "execute_result"
    }
   ],
   "source": [
    "eg.ego_betweenness(G, 3)"
   ]
  },
  {
   "cell_type": "markdown",
   "metadata": {},
   "source": [
    "eg.effective_size(G)"
   ]
  },
  {
   "cell_type": "code",
   "execution_count": 74,
   "metadata": {},
   "outputs": [
    {
     "data": {
      "text/plain": [
       "{1: 0.734375,\n",
       " 2: 0.48148148148148145,\n",
       " 3: 0.58,\n",
       " 4: 0.11111111111111116,\n",
       " 5: -0.11111111111111116,\n",
       " 6: 0.125,\n",
       " 7: 0.125,\n",
       " 8: -0.25,\n",
       " 9: 0.2,\n",
       " 10: 0.0,\n",
       " 11: -0.11111111111111116,\n",
       " 12: -1.0,\n",
       " 13: -0.5,\n",
       " 14: 0.11999999999999993,\n",
       " 15: -0.5,\n",
       " 16: -0.5,\n",
       " 17: -0.5,\n",
       " 18: -0.5,\n",
       " 19: -0.5,\n",
       " 20: 0.11111111111111116,\n",
       " 21: -0.5,\n",
       " 22: -0.5,\n",
       " 23: -0.5,\n",
       " 24: 0.27999999999999997,\n",
       " 25: 0.11111111111111116,\n",
       " 26: 0.11111111111111116,\n",
       " 27: -0.5,\n",
       " 28: 0.375,\n",
       " 29: 0.11111111111111116,\n",
       " 30: 0.0,\n",
       " 31: 0.125,\n",
       " 32: 0.5,\n",
       " 33: 0.6527777777777778,\n",
       " 34: 0.7785467128027681}"
      ]
     },
     "execution_count": 74,
     "metadata": {},
     "output_type": "execute_result"
    }
   ],
   "source": [
    "eg.efficiency(G)"
   ]
  },
  {
   "cell_type": "code",
   "execution_count": 75,
   "metadata": {},
   "outputs": [
    {
     "data": {
      "text/plain": [
       "{1: 0.15542329764660495,\n",
       " 2: 0.27953510802469134,\n",
       " 3: 0.18517663966049389,\n",
       " 4: 0.39665964720507535,\n",
       " 5: 0.5294174382716048,\n",
       " 6: 0.4774848090277778,\n",
       " 7: 0.4774848090277778,\n",
       " 8: 0.4427115885416667,\n",
       " 9: 0.3036007136678201,\n",
       " 10: 0.5,\n",
       " 11: 0.5294174382716048,\n",
       " 12: 1.0,\n",
       " 13: 0.6225043402777779,\n",
       " 14: 0.32333541666666676,\n",
       " 15: 0.5736795943867743,\n",
       " 16: 0.5736795943867743,\n",
       " 17: 0.78125,\n",
       " 18: 0.590868537808642,\n",
       " 19: 0.5736795943867743,\n",
       " 20: 0.37371935013717417,\n",
       " 21: 0.5736795943867743,\n",
       " 22: 0.590868537808642,\n",
       " 23: 0.5736795943867743,\n",
       " 24: 0.30582372164552096,\n",
       " 25: 0.4598765432098765,\n",
       " 26: 0.4598765432098765,\n",
       " 27: 0.6709018166089966,\n",
       " 28: 0.2850692041522491,\n",
       " 29: 0.3869131530607885,\n",
       " 30: 0.44940900134563627,\n",
       " 31: 0.3460064638600538,\n",
       " 32: 0.24457540369088812,\n",
       " 33: 0.2492233622751933,\n",
       " 34: 0.15641868512110732}"
      ]
     },
     "execution_count": 75,
     "metadata": {},
     "output_type": "execute_result"
    }
   ],
   "source": [
    "eg.constraint(G)"
   ]
  },
  {
   "cell_type": "code",
   "execution_count": 76,
   "metadata": {},
   "outputs": [
    {
     "data": {
      "text/plain": [
       "{1: 0.08754463683694338,\n",
       " 2: 0.1544986992144599,\n",
       " 3: 0.04535921163684897,\n",
       " 4: 0.061067624090107915,\n",
       " 5: 0.07134469342227538,\n",
       " 6: 0.035305086439308436,\n",
       " 7: 0.03530508643930843,\n",
       " 8: 0.0011300905133206085,\n",
       " 9: 0.012305615918292673,\n",
       " 10: 0.0,\n",
       " 11: 0.07134469342227538,\n",
       " 12: 0,\n",
       " 13: 0.006282226820057121,\n",
       " 14: 0.01352163842686084,\n",
       " 15: 0.00037766424272729984,\n",
       " 16: 0.00037766424272729984,\n",
       " 17: 0.0,\n",
       " 18: 0.0014421896477064891,\n",
       " 19: 0.00037766424272729984,\n",
       " 20: 0.0033488184456886283,\n",
       " 21: 0.00037766424272729984,\n",
       " 22: 0.0014421896477064891,\n",
       " 23: 0.00037766424272729984,\n",
       " 24: 0.036897065903971515,\n",
       " 25: 0.024311482691998648,\n",
       " 26: 0.024311482691998648,\n",
       " 27: 0.01960343310353982,\n",
       " 28: 0.0086202479405721,\n",
       " 29: 0.007513545360870802,\n",
       " 30: 0.06689992156538088,\n",
       " 31: 0.01286931837997609,\n",
       " 32: 0.020491542893317758,\n",
       " 33: 0.3259402254099858,\n",
       " 34: 0.2416086531756689}"
      ]
     },
     "execution_count": 76,
     "metadata": {},
     "output_type": "execute_result"
    }
   ],
   "source": [
    "eg.hierarchy(G)"
   ]
  }
 ],
 "metadata": {
  "interpreter": {
   "hash": "aaa1341972cf5aa6520aa27857a91c10b768cbd27d8afa4ccf1cc69ed400b7e7"
  },
  "kernelspec": {
   "display_name": "Python 3.10.2 ('lab')",
   "language": "python",
   "name": "python3"
  },
  "language_info": {
   "codemirror_mode": {
    "name": "ipython",
    "version": 3
   },
   "file_extension": ".py",
   "mimetype": "text/x-python",
   "name": "python",
   "nbconvert_exporter": "python",
   "pygments_lexer": "ipython3",
   "version": "3.9.10"
  },
  "orig_nbformat": 4
 },
 "nbformat": 4,
 "nbformat_minor": 2
}
