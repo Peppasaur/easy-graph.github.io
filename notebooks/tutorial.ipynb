{
 "cells": [
  {
   "cell_type": "code",
   "execution_count": null,
   "metadata": {},
   "outputs": [],
   "source": [
    "import easygraph as eg\n",
    "G=eg.Graph()"
   ]
  },
  {
   "cell_type": "code",
   "execution_count": null,
   "metadata": {},
   "outputs": [],
   "source": [
    "G.add_edge(1,2)#Add a single edge\n",
    "G.edges"
   ]
  },
  {
   "cell_type": "code",
   "execution_count": null,
   "metadata": {},
   "outputs": [],
   "source": [
    "G.add_edges([(2, 3), (1, 3), (3, 4), (4, 5)])#Add edges\n",
    "G.edges"
   ]
  },
  {
   "cell_type": "code",
   "execution_count": null,
   "metadata": {},
   "outputs": [],
   "source": [
    "G.add_node('hello world')\n",
    "G.add_node('Jack', node_attr={\n",
    "    'age': 10,\n",
    "    'gender': 'M'\n",
    "})\n",
    "G.nodes"
   ]
  },
  {
   "cell_type": "code",
   "execution_count": null,
   "metadata": {},
   "outputs": [],
   "source": [
    "G.remove_nodes(['hello world','Tom','Lily','a','b'])#remove edges\n",
    "G.nodes"
   ]
  },
  {
   "cell_type": "code",
   "execution_count": null,
   "metadata": {},
   "outputs": [],
   "source": [
    "G.remove_edge(4,5)\n",
    "G.edges"
   ]
  },
  {
   "cell_type": "code",
   "execution_count": null,
   "metadata": {},
   "outputs": [],
   "source": [
    "print(len(G))#__len__(self)\n",
    "\n",
    "for x in G:#__iter__(self)\n",
    "    print(x)\n",
    "\n",
    "\n",
    "\n",
    "\n",
    "\n",
    "print(G[1])# return list(self._adj[node].keys()) __contains__ __getitem__"
   ]
  },
  {
   "cell_type": "code",
   "execution_count": null,
   "metadata": {},
   "outputs": [],
   "source": [
    "for neighbor in G.neighbors(node=2):\n",
    "    print(neighbor)"
   ]
  },
  {
   "cell_type": "code",
   "execution_count": null,
   "metadata": {},
   "outputs": [],
   "source": [
    "G.add_edges([(1,2), (2, 3),(1, 3), (3, 4), (4, 5)], edges_attr=[\n",
    "    {\n",
    "        'weight': 20\n",
    "    },\n",
    "    {\n",
    "        'weight': 10\n",
    "    },\n",
    "    {\n",
    "        'weight': 15\n",
    "    },\n",
    "    {\n",
    "        'weight': 8\n",
    "    },\n",
    "    {\n",
    "        'weight': 12\n",
    "    }\n",
    "])#add weighted edges\n",
    "G.add_node(6)\n",
    "G.edges\n",
    "\n",
    "G.nodes\n",
    "\n",
    "G.adj"
   ]
  },
  {
   "cell_type": "code",
   "execution_count": null,
   "metadata": {},
   "outputs": [],
   "source": [
    "G.degree()\n",
    "\n",
    "G.degree(weight='weight')"
   ]
  },
  {
   "cell_type": "code",
   "execution_count": null,
   "metadata": {},
   "outputs": [],
   "source": [
    "G_index_graph, index_of_node, node_of_index = G.to_index_node_graph()\n",
    "G_index_graph.adj\n",
    "\n",
    "index_of_node\n",
    "\n",
    "node_of_index"
   ]
  },
  {
   "cell_type": "code",
   "execution_count": null,
   "metadata": {},
   "outputs": [],
   "source": [
    "G1 = G.copy()\n",
    "G1.adj"
   ]
  },
  {
   "cell_type": "code",
   "execution_count": null,
   "metadata": {},
   "outputs": [],
   "source": [
    "G_sub = G.nodes_subgraph(from_nodes=[1, 2, 3])\n",
    "G_sub.adj"
   ]
  },
  {
   "cell_type": "code",
   "execution_count": null,
   "metadata": {},
   "outputs": [],
   "source": [
    "ego_network = G.ego_subgraph(center=1)\n",
    "ego_network.adj"
   ]
  },
  {
   "cell_type": "code",
   "execution_count": null,
   "metadata": {},
   "outputs": [],
   "source": [
    "eg.number_connected_components(G)\n",
    "\n",
    "eg.connected_components(G)\n",
    "\n",
    "eg.connected_component_of_node(G, node=3)"
   ]
  },
  {
   "cell_type": "markdown",
   "metadata": {},
   "source": [
    "## Detection of Structural Hole Spanners"
   ]
  },
  {
   "cell_type": "code",
   "execution_count": null,
   "metadata": {},
   "outputs": [],
   "source": [
    "M = eg.get_structural_holes_MaxD(\n",
    "    G,\n",
    "    k=5,  # To find top five structural holes spanners.\n",
    "    C=[frozenset([1, 2, 3]), frozenset([4, 5, 6])]  # Two communities\n",
    ")\n",
    "M"
   ]
  },
  {
   "cell_type": "code",
   "execution_count": null,
   "metadata": {},
   "outputs": [],
   "source": [
    "top_k_nodes, SH_score, cmnt_labels = eg.get_structural_holes_HAM(\n",
    "    G, k=2, c=2, ground_truth_labels=[[0], [0], [1], [1], [1]])\n"
   ]
  },
  {
   "cell_type": "code",
   "execution_count": null,
   "metadata": {},
   "outputs": [],
   "source": [
    "top_k_nodes\n",
    "\n",
    "SH_score\n",
    "\n",
    "cmnt_labels"
   ]
  },
  {
   "cell_type": "code",
   "execution_count": null,
   "metadata": {},
   "outputs": [],
   "source": [
    "T = eg.common_greedy(G, k=3, c=1.0, weight='weight')\n",
    "T"
   ]
  },
  {
   "cell_type": "markdown",
   "metadata": {},
   "source": [
    "G=eg.datasets.get_graph_karateclub()"
   ]
  },
  {
   "cell_type": "code",
   "execution_count": null,
   "metadata": {},
   "outputs": [],
   "source": [
    "eg.ego_betweenness(G, 3)"
   ]
  },
  {
   "cell_type": "markdown",
   "metadata": {},
   "source": [
    "eg.effective_size(G)"
   ]
  },
  {
   "cell_type": "code",
   "execution_count": null,
   "metadata": {},
   "outputs": [],
   "source": [
    "eg.efficiency(G)"
   ]
  },
  {
   "cell_type": "code",
   "execution_count": null,
   "metadata": {},
   "outputs": [],
   "source": [
    "eg.constraint(G)"
   ]
  },
  {
   "cell_type": "code",
   "execution_count": null,
   "metadata": {},
   "outputs": [],
   "source": [
    "eg.hierarchy(G)"
   ]
  },
  {
   "cell_type": "code",
   "execution_count": null,
   "metadata": {},
   "outputs": [],
   "source": []
  }
 ],
 "metadata": {
  "language_info": {
   "name": "python"
  },
  "orig_nbformat": 4
 },
 "nbformat": 4,
 "nbformat_minor": 2
}
